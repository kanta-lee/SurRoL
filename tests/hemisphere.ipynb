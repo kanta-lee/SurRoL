{
 "cells": [
  {
   "cell_type": "code",
   "execution_count": 1,
   "id": "6511d4d2",
   "metadata": {},
   "outputs": [
    {
     "name": "stderr",
     "output_type": "stream",
     "text": [
      "pybullet build time: Feb 15 2025 12:06:37\n"
     ]
    }
   ],
   "source": [
    "import os\n",
    "import time\n",
    "import numpy as np\n",
    "from tqdm import tqdm\n",
    "\n",
    "import pybullet as p\n",
    "import pybullet_data\n",
    "from surrol.utils.pybullet_utils import (\n",
    "    step,\n",
    "    get_joints,\n",
    "    get_link_name,\n",
    "    reset_camera,\n",
    ")\n",
    "from surrol.robots.psm import Psm"
   ]
  },
  {
   "cell_type": "code",
   "execution_count": 2,
   "id": "1ceaef82",
   "metadata": {},
   "outputs": [
    {
     "name": "stdout",
     "output_type": "stream",
     "text": [
      "Version = 4.1 Metal - 89.4\n",
      "Vendor = Apple\n",
      "Renderer = Apple M1\n",
      "b3Printf: Selected demo: Physics Server\n",
      "startThreads creating 1 threads.\n",
      "starting thread 0\n",
      "started thread 0 \n",
      "MotionThreadFunc thread started\n"
     ]
    }
   ],
   "source": [
    "p.connect(p.GUI)\n",
    "# p.connect(p.DIRECT)\n",
    "p.setGravity(0, 0, -9.81)"
   ]
  },
  {
   "cell_type": "code",
   "execution_count": 3,
   "id": "db759d3d",
   "metadata": {},
   "outputs": [],
   "source": [
    "# PsmEnv     : [[ 2.5    3.   ] [-0.25   0.25 ] [ 3.426  3.776]]\n",
    "# NeedleReach: [[ 2.5    3.   ] [-0.25   0.25 ] [ 3.426  3.776]]\n",
    "\n",
    "# Actually workspace lowest Z should be 3.476, due to the tray pad.\n",
    "\n",
    "POSE_TRAY = ((0.55, 0, 0.6751), (0, 0, 0))\n",
    "SCALING = 10."
   ]
  },
  {
   "cell_type": "code",
   "execution_count": null,
   "id": "12d61876",
   "metadata": {},
   "outputs": [],
   "source": [
    "(0.675+0.0102)*5"
   ]
  },
  {
   "cell_type": "code",
   "execution_count": null,
   "id": "96a4e38a",
   "metadata": {},
   "outputs": [],
   "source": [
    "obj_id_5 = p.loadURDF('/Users/kantaphat/Research/DEX/SurRoL/surrol/assets/tray/tray_pad.urdf',\n",
    "                    np.array(POSE_TRAY[0]) * 5.0,\n",
    "                    p.getQuaternionFromEuler(POSE_TRAY[1]),\n",
    "                    globalScaling=5.0)"
   ]
  },
  {
   "cell_type": "code",
   "execution_count": null,
   "id": "45fa2b1f",
   "metadata": {},
   "outputs": [],
   "source": [
    "p.removeBody(obj_id_5)"
   ]
  },
  {
   "cell_type": "code",
   "execution_count": 4,
   "id": "a9c90691",
   "metadata": {},
   "outputs": [],
   "source": [
    "obj_id_10 = p.loadURDF('/Users/kantaphat/Research/DEX/SurRoL/surrol/assets/tray/tray_pad.urdf',\n",
    "                    np.array(POSE_TRAY[0]) * 5.0,\n",
    "                    p.getQuaternionFromEuler(POSE_TRAY[1]),\n",
    "                    globalScaling=10.0)"
   ]
  },
  {
   "cell_type": "code",
   "execution_count": null,
   "id": "e2e0a9fd",
   "metadata": {},
   "outputs": [],
   "source": [
    "reset_camera(yaw=120, pitch=-25, dist=0.6, target=np.array(POSE_TRAY[0]) * SCALING)"
   ]
  },
  {
   "cell_type": "code",
   "execution_count": 9,
   "id": "41c3d81c",
   "metadata": {},
   "outputs": [],
   "source": [
    "# Front\n",
    "reset_camera(yaw=90, pitch=-10.0, dist=0.43 * SCALING,\n",
    "                         target=(-0.05 * SCALING, 0, 0.32 * SCALING))"
   ]
  },
  {
   "cell_type": "code",
   "execution_count": null,
   "id": "00425929",
   "metadata": {},
   "outputs": [],
   "source": [
    "# right\n",
    "reset_camera(yaw=130, pitch=-10.0, dist=0.45 * SCALING,\n",
    "                         target=(-0.05 * SCALING, 0, 0.34 * SCALING))"
   ]
  },
  {
   "cell_type": "code",
   "execution_count": 5,
   "id": "8cfcd54e",
   "metadata": {},
   "outputs": [],
   "source": [
    "POSE_PSM1 = ((0.05, 0.24, 0.8524), (0, 0, -(90 + 20) / 180 * np.pi))\n",
    "psm = Psm(POSE_PSM1[0], \n",
    "          p.getQuaternionFromEuler(POSE_PSM1[1]), \n",
    "          scaling=5.0)"
   ]
  },
  {
   "cell_type": "code",
   "execution_count": null,
   "id": "f2b144ce",
   "metadata": {},
   "outputs": [],
   "source": [
    "p.removeBody(psm.body)"
   ]
  },
  {
   "cell_type": "code",
   "execution_count": 7,
   "id": "f027a8e2",
   "metadata": {},
   "outputs": [],
   "source": [
    "workspace_limits = np.array([(2.5, 3), (-0.25, 0.25), (3.476, 3.776)])"
   ]
  },
  {
   "cell_type": "code",
   "execution_count": 26,
   "id": "5d7c6ac8",
   "metadata": {},
   "outputs": [
    {
     "data": {
      "text/plain": [
       "array([ 0.62898048, -0.92148253,  0.08409635, -0.36285628,  0.6774394 ,\n",
       "       -0.89246938])"
      ]
     },
     "execution_count": 26,
     "metadata": {},
     "output_type": "execute_result"
    }
   ],
   "source": [
    "pos = (workspace_limits[0].mean(),\n",
    "        workspace_limits[1].mean() + 0.25 * np.cos(np.pi / 3), # 0.25 = radius of hemisphere\n",
    "        # workspace_limits[2][0] - 0.0102 * SCALING + 0.25 * np.sin(np.pi / 3) - 0.01\n",
    "        workspace_limits[2][1] + 0.290\n",
    "        )\n",
    "orn = (0.5, 0.5, -0.5, -0.5)\n",
    "\n",
    "joint_positions = psm.inverse_kinematics((pos, orn), psm.EEF_LINK_INDEX)\n",
    "psm.reset_joint(joint_positions)"
   ]
  },
  {
   "cell_type": "code",
   "execution_count": null,
   "id": "48620feb",
   "metadata": {},
   "outputs": [],
   "source": [
    "workspace_limits[2][1] + 0.290"
   ]
  },
  {
   "cell_type": "code",
   "execution_count": 12,
   "id": "27f00af8",
   "metadata": {},
   "outputs": [
    {
     "name": "stdout",
     "output_type": "stream",
     "text": [
      "[2.75, 0.0, 3.441]\n"
     ]
    }
   ],
   "source": [
    "scale = 50 #25\n",
    "\n",
    "hemisphere_pos = [\n",
    "    workspace_limits[0].mean(), \n",
    "    workspace_limits[1].mean(), \n",
    "    workspace_limits[2][0] - 0.035 # 0.0102 * 2.5\n",
    "]\n",
    "\n",
    "print(hemisphere_pos)\n",
    "\n",
    "# mesh_path = '/Users/kantaphat/Research/DEX/SurRoL/surrol/assets/sphere/half_sphere.urdf'\n",
    "hemisphere_id = p.loadURDF('/Users/kantaphat/Research/DEX/SurRoL/surrol/assets/sphere/half_sphere.urdf',\n",
    "            np.array(hemisphere_pos),\n",
    "            p.getQuaternionFromEuler((-np.pi / 2, 0, 0)),\n",
    "            # p.getQuaternionFromEuler((-np.pi / 2, 0, np.pi / 2)),\n",
    "            globalScaling=scale)"
   ]
  },
  {
   "cell_type": "code",
   "execution_count": null,
   "id": "a90936b4",
   "metadata": {},
   "outputs": [],
   "source": [
    "# View to check if hemisphere is stick to the tray pad\n",
    "reset_camera(yaw=80, pitch=-0.6, dist=0.37 * SCALING,\n",
    "                         target=(-0.05 * SCALING, 0, 0.34 * SCALING))"
   ]
  },
  {
   "cell_type": "code",
   "execution_count": 11,
   "id": "552fd1ad",
   "metadata": {},
   "outputs": [],
   "source": [
    "p.removeBody(hemisphere_id)"
   ]
  },
  {
   "cell_type": "code",
   "execution_count": null,
   "id": "70fb2470",
   "metadata": {},
   "outputs": [],
   "source": [
    "np.cos(np.pi / 3)"
   ]
  },
  {
   "cell_type": "code",
   "execution_count": 19,
   "id": "5d92c0fb",
   "metadata": {},
   "outputs": [],
   "source": [
    "# Add cylinder\n",
    "\n",
    "cylinder_pos = [\n",
    "    workspace_limits[0].mean(), \n",
    "    workspace_limits[1].mean() + 0.25 * np.cos(np.pi / 3), \n",
    "    workspace_limits[2][1] + 0.15\n",
    "]\n",
    "\n",
    "cylinder_visual_id = p.createVisualShape(\n",
    "    p.GEOM_CYLINDER, \n",
    "    radius=0.05, \n",
    "    length=0.1,\n",
    "    rgbaColor=[0, 1, 1, 0.3]\n",
    ")\n",
    "\n",
    "cylinder_id = p.createMultiBody(\n",
    "    baseMass=0,\n",
    "    baseVisualShapeIndex=cylinder_visual_id,\n",
    "    basePosition=cylinder_pos,\n",
    "    baseOrientation=p.getQuaternionFromEuler([-np.pi / 6, 0, 0])\n",
    ")"
   ]
  },
  {
   "cell_type": "code",
   "execution_count": null,
   "id": "5366bf31",
   "metadata": {},
   "outputs": [],
   "source": [
    "reset_camera(yaw=180, pitch=-89.0, dist=1.0, target=cylinder_pos)"
   ]
  },
  {
   "cell_type": "code",
   "execution_count": 18,
   "id": "2960b2d3",
   "metadata": {},
   "outputs": [],
   "source": [
    "p.removeBody(cylinder_id)"
   ]
  },
  {
   "cell_type": "code",
   "execution_count": null,
   "id": "68aa5105",
   "metadata": {},
   "outputs": [],
   "source": [
    "def draw_workspace(limits, color=(1, 0, 0), line_width=2):\n",
    "    \"\"\"Draw a wireframe box representing the workspace limits.\"\"\"\n",
    "    x_min, x_max = limits[0]\n",
    "    y_min, y_max = limits[1]\n",
    "    z_min, z_max = limits[2]\n",
    "    \n",
    "    # Define the 8 corners of the box\n",
    "    corners = [\n",
    "        [x_min, y_min, z_min],\n",
    "        [x_min, y_min, z_max],\n",
    "        [x_min, y_max, z_min],\n",
    "        [x_min, y_max, z_max],\n",
    "        [x_max, y_min, z_min],\n",
    "        [x_max, y_min, z_max],\n",
    "        [x_max, y_max, z_min],\n",
    "        [x_max, y_max, z_max]\n",
    "    ]\n",
    "    \n",
    "    # Define the 12 edges of the box\n",
    "    edges = [\n",
    "        (0, 1), (0, 2), (0, 4),\n",
    "        (1, 3), (1, 5),\n",
    "        (2, 3), (2, 6),\n",
    "        (3, 7),\n",
    "        (4, 5), (4, 6),\n",
    "        (5, 7),\n",
    "        (6, 7)\n",
    "    ]\n",
    "    \n",
    "    # Draw each edge\n",
    "    for edge in edges:\n",
    "        p.addUserDebugLine(\n",
    "            corners[edge[0]],\n",
    "            corners[edge[1]],\n",
    "            lineColorRGB=color,\n",
    "            lineWidth=line_width,\n",
    "            lifeTime=0\n",
    "        )"
   ]
  },
  {
   "cell_type": "code",
   "execution_count": null,
   "id": "705134be",
   "metadata": {},
   "outputs": [],
   "source": [
    "draw_workspace(workspace_limits)"
   ]
  },
  {
   "cell_type": "code",
   "execution_count": null,
   "id": "9f4421d7",
   "metadata": {},
   "outputs": [],
   "source": [
    "psm.pose_rcm2world(psm.get_current_position(), 'tuple')[0]"
   ]
  },
  {
   "cell_type": "code",
   "execution_count": null,
   "id": "22aebb09",
   "metadata": {},
   "outputs": [],
   "source": [
    "reset_camera(yaw=90, pitch=-10, dist=1.2, \n",
    "             target=np.array(psm.pose_rcm2world(psm.get_current_position(), 'tuple')[0]))"
   ]
  },
  {
   "cell_type": "code",
   "execution_count": null,
   "id": "0b9b83f1",
   "metadata": {},
   "outputs": [],
   "source": [
    "sphere_shape = p.createVisualShape(\n",
    "    p.GEOM_SPHERE, \n",
    "    radius=0.005, \n",
    "    rgbaColor=[0, 1, 1, 1]\n",
    ")\n",
    "\n",
    "sphere_body = p.createMultiBody(\n",
    "    baseMass=0,\n",
    "    baseVisualShapeIndex=sphere_shape,\n",
    "    basePosition=psm.pose_rcm2world(psm.get_current_position(), 'tuple')[0]\n",
    ")"
   ]
  },
  {
   "cell_type": "code",
   "execution_count": null,
   "id": "85e18548",
   "metadata": {},
   "outputs": [],
   "source": [
    "p.removeBody(sphere_body)"
   ]
  },
  {
   "cell_type": "code",
   "execution_count": 27,
   "id": "e84b5590",
   "metadata": {},
   "outputs": [
    {
     "ename": "KeyboardInterrupt",
     "evalue": "",
     "output_type": "error",
     "traceback": [
      "\u001b[0;31m---------------------------------------------------------------------------\u001b[0m",
      "\u001b[0;31mKeyboardInterrupt\u001b[0m                         Traceback (most recent call last)",
      "Cell \u001b[0;32mIn[27], line 2\u001b[0m\n\u001b[1;32m      1\u001b[0m \u001b[38;5;28;01mwhile\u001b[39;00m \u001b[38;5;28;01mTrue\u001b[39;00m:\n\u001b[0;32m----> 2\u001b[0m     \u001b[43mp\u001b[49m\u001b[38;5;241;43m.\u001b[39;49m\u001b[43mstepSimulation\u001b[49m\u001b[43m(\u001b[49m\u001b[43m)\u001b[49m\n\u001b[1;32m      3\u001b[0m     time\u001b[38;5;241m.\u001b[39msleep(\u001b[38;5;241m1.0\u001b[39m\u001b[38;5;241m/\u001b[39m\u001b[38;5;241m240.0\u001b[39m)\n",
      "\u001b[0;31mKeyboardInterrupt\u001b[0m: "
     ]
    }
   ],
   "source": [
    "while True:\n",
    "    p.stepSimulation()\n",
    "    time.sleep(1.0/240.0)"
   ]
  },
  {
   "cell_type": "code",
   "execution_count": null,
   "id": "ba032f43",
   "metadata": {},
   "outputs": [],
   "source": [
    "p.disconnect()"
   ]
  },
  {
   "cell_type": "code",
   "execution_count": null,
   "id": "0c61202e",
   "metadata": {},
   "outputs": [],
   "source": []
  }
 ],
 "metadata": {
  "kernelspec": {
   "display_name": "surrol",
   "language": "python",
   "name": "python3"
  },
  "language_info": {
   "codemirror_mode": {
    "name": "ipython",
    "version": 3
   },
   "file_extension": ".py",
   "mimetype": "text/x-python",
   "name": "python",
   "nbconvert_exporter": "python",
   "pygments_lexer": "ipython3",
   "version": "3.8.20"
  }
 },
 "nbformat": 4,
 "nbformat_minor": 5
}
