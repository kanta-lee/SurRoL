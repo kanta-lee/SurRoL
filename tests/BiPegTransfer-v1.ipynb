{
 "cells": [
  {
   "cell_type": "code",
   "execution_count": 14,
   "metadata": {},
   "outputs": [
    {
     "name": "stdout",
     "output_type": "stream",
     "text": [
      "Version = 4.1 Metal - 89.3\n",
      "Vendor = Apple\n",
      "Renderer = Apple M1\n",
      "b3Printf: Selected demo: Physics Server\n",
      "startThreads creating 1 threads.\n",
      "starting thread 0\n",
      "started thread 0 \n",
      "MotionThreadFunc thread started\n"
     ]
    }
   ],
   "source": [
    "import pybullet as p\n",
    "import numpy as np\n",
    "from surrol.utils.pybullet_utils import reset_camera\n",
    "\n",
    "# Connect to PyBullet\n",
    "physicsClient = p.connect(p.GUI)  # Use p.DIRECT for non-GUI mode\n",
    "p.setGravity(0, 0, -9.81)"
   ]
  },
  {
   "cell_type": "code",
   "execution_count": 15,
   "metadata": {},
   "outputs": [],
   "source": [
    "# Load peg board\n",
    "board_id = p.loadURDF('/Users/kantaphat/Research/ViSkill/SurRoL/surrol/assets/peg_board/peg_board.urdf',\n",
    "                      np.array((0.55, 0, 0.6861)) * 5.,\n",
    "                      p.getQuaternionFromEuler((0, 0, 0)),\n",
    "                      globalScaling=5.)"
   ]
  },
  {
   "cell_type": "code",
   "execution_count": 16,
   "metadata": {},
   "outputs": [],
   "source": [
    "# Load the sphere\n",
    "sphere_id = p.loadURDF('/Users/kantaphat/Research/ViSkill/SurRoL/surrol/assets/sphere/obstacle.urdf',\n",
    "                       np.array([2.7, 0.07, 3.75]),\n",
    "                       (0, 0, 0, 1),\n",
    "                       globalScaling=5.)"
   ]
  },
  {
   "cell_type": "code",
   "execution_count": 9,
   "metadata": {},
   "outputs": [],
   "source": [
    "# Remove sphere\n",
    "p.removeBody(sphere_id)"
   ]
  },
  {
   "cell_type": "code",
   "execution_count": 115,
   "metadata": {},
   "outputs": [],
   "source": [
    "# Load cylinder\n",
    "cylinder_id = p.loadURDF('/Users/kantaphat/Research/ViSkill/SurRoL/surrol/assets/cylinder/cylinder_phase_1.urdf',\n",
    "                       np.array([2.79999995, 0.215, 3.54049993 + 0.047]),\n",
    "                       (0, 0, 0, 1),\n",
    "                       globalScaling=5.)"
   ]
  },
  {
   "cell_type": "code",
   "execution_count": 114,
   "metadata": {},
   "outputs": [],
   "source": [
    "# Remove cylinder\n",
    "p.removeBody(cylinder_id)"
   ]
  },
  {
   "cell_type": "code",
   "execution_count": 117,
   "metadata": {},
   "outputs": [],
   "source": [
    "# Front view\n",
    "reset_camera(yaw=90, pitch=-30, dist=0.8 * 5., target=(-0.05 * 5., 0, 0.36 * 5.))"
   ]
  },
  {
   "cell_type": "code",
   "execution_count": 87,
   "metadata": {},
   "outputs": [],
   "source": [
    "# Side view\n",
    "reset_camera(yaw=180, pitch=-30, dist=0.75 * 5., target=(0.55 * 5., -0.52 * 5., 0.395 * 5.))"
   ]
  },
  {
   "cell_type": "code",
   "execution_count": null,
   "metadata": {},
   "outputs": [],
   "source": [
    "# Top view\n",
    "reset_camera(yaw=0, pitch=-89, dist=0.5, target=(2.7, 0, 3.75))"
   ]
  },
  {
   "cell_type": "code",
   "execution_count": 118,
   "metadata": {},
   "outputs": [
    {
     "name": "stdout",
     "output_type": "stream",
     "text": [
      "numActiveThreads = 0\n",
      "stopping threads\n",
      "destroy semaphore\n",
      "semaphore destroyed\n",
      "Thread with taskId 0 exiting\n",
      "Thread TERMINATED\n",
      "destroy main semaphore\n",
      "main semaphore destroyed\n"
     ]
    }
   ],
   "source": [
    "# Disconnect from PyBullet\n",
    "p.disconnect()"
   ]
  },
  {
   "cell_type": "code",
   "execution_count": null,
   "metadata": {},
   "outputs": [],
   "source": []
  }
 ],
 "metadata": {
  "kernelspec": {
   "display_name": "surrol",
   "language": "python",
   "name": "python3"
  },
  "language_info": {
   "codemirror_mode": {
    "name": "ipython",
    "version": 3
   },
   "file_extension": ".py",
   "mimetype": "text/x-python",
   "name": "python",
   "nbconvert_exporter": "python",
   "pygments_lexer": "ipython3",
   "version": "3.8.20"
  }
 },
 "nbformat": 4,
 "nbformat_minor": 2
}
