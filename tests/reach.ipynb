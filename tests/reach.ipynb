{
 "cells": [
  {
   "cell_type": "code",
   "execution_count": 1,
   "id": "6511d4d2",
   "metadata": {},
   "outputs": [
    {
     "name": "stderr",
     "output_type": "stream",
     "text": [
      "pybullet build time: Feb 15 2025 12:06:37\n"
     ]
    },
    {
     "name": "stdout",
     "output_type": "stream",
     "text": [
      "Version = 4.1 Metal - 89.4\n",
      "Vendor = Apple\n",
      "Renderer = Apple M1\n",
      "b3Printf: Selected demo: Physics Server\n",
      "startThreads creating 1 threads.\n",
      "starting thread 0\n",
      "started thread 0 \n",
      "MotionThreadFunc thread started\n"
     ]
    }
   ],
   "source": [
    "import time\n",
    "import numpy as np\n",
    "\n",
    "import pybullet as p\n",
    "from surrol.utils.pybullet_utils import (\n",
    "    reset_camera,\n",
    ")\n",
    "from surrol.robots.psm import Psm\n",
    "\n",
    "p.connect(p.GUI)\n",
    "# p.connect(p.DIRECT)\n",
    "p.setGravity(0, 0, -9.81)"
   ]
  },
  {
   "cell_type": "code",
   "execution_count": 2,
   "id": "db759d3d",
   "metadata": {},
   "outputs": [],
   "source": [
    "# PsmEnv     : [[ 2.5    3.   ] [-0.25   0.25 ] [ 3.426  3.776]]\n",
    "# NeedleReach: [[ 2.5    3.   ] [-0.25   0.25 ] [ 3.426  3.776]]\n",
    "\n",
    "# Actually workspace lowest Z should be 3.476, due to the tray pad.\n",
    "\n",
    "# Workspace limits: [[ 2.5    3.   ] [-0.25   0.25 ] [ 3.426  3.776]]\n",
    "# Scaling factor: 5.0\n",
    "# Pose of tray: ((0.55, 0, 0.6751), (0, 0, 0))\n",
    "\n",
    "POSE_TRAY = ((0.55, 0, 0.6751), (0, 0, 0))\n",
    "SCALING = 5.\n",
    "workspace_limits = np.array([[2.5, 3.], [-0.25, 0.25], [3.426, 3.776]])  # x, y, z"
   ]
  },
  {
   "cell_type": "code",
   "execution_count": 3,
   "id": "96a4e38a",
   "metadata": {},
   "outputs": [],
   "source": [
    "obj_id_5 = p.loadURDF('/Users/kantaphat/Research/DEX/SurRoL/surrol/assets/tray/tray_pad.urdf',\n",
    "                    np.array(POSE_TRAY[0]) * 5.0,\n",
    "                    p.getQuaternionFromEuler(POSE_TRAY[1]),\n",
    "                    globalScaling=5.0)"
   ]
  },
  {
   "cell_type": "code",
   "execution_count": null,
   "id": "45fa2b1f",
   "metadata": {},
   "outputs": [],
   "source": [
    "p.removeBody(obj_id_5)"
   ]
  },
  {
   "cell_type": "code",
   "execution_count": 5,
   "id": "e2e0a9fd",
   "metadata": {},
   "outputs": [],
   "source": [
    "reset_camera(yaw=90, pitch=-20, dist=1.0, target=np.array(POSE_TRAY[0]) * SCALING)"
   ]
  },
  {
   "cell_type": "code",
   "execution_count": 6,
   "id": "8cfcd54e",
   "metadata": {},
   "outputs": [],
   "source": [
    "POSE_PSM1 = ((0.05, 0.24, 0.8524), (0, 0, -(90 + 20) / 180 * np.pi))\n",
    "# POSE_PSM1 = ((0, 0, 0), (0, 0, 0))\n",
    "\n",
    "psm = Psm(POSE_PSM1[0], \n",
    "          p.getQuaternionFromEuler(POSE_PSM1[1]), \n",
    "          scaling=5.0)"
   ]
  },
  {
   "cell_type": "code",
   "execution_count": null,
   "id": "f2b144ce",
   "metadata": {},
   "outputs": [],
   "source": [
    "p.removeBody(psm.body)"
   ]
  },
  {
   "cell_type": "code",
   "execution_count": null,
   "id": "0f4be96a",
   "metadata": {},
   "outputs": [
    {
     "data": {
      "text/plain": [
       "((3.0, 0.2500000000000001, 3.7760000228881836),\n",
       " (0.6324555320336759,\n",
       "  0.6324555320336759,\n",
       "  -0.3162277660168379,\n",
       "  -0.31622776601683794))"
      ]
     },
     "execution_count": 60,
     "metadata": {},
     "output_type": "execute_result"
    }
   ],
   "source": [
    "psm.pose_rcm2world(psm.get_current_position(), 'tuple')\n"
   ]
  },
  {
   "cell_type": "code",
   "execution_count": null,
   "id": "70449729",
   "metadata": {},
   "outputs": [
    {
     "ename": "TypeError",
     "evalue": "tuple indices must be integers or slices, not str",
     "output_type": "error",
     "traceback": [
      "\u001b[0;31m---------------------------------------------------------------------------\u001b[0m",
      "\u001b[0;31mTypeError\u001b[0m                                 Traceback (most recent call last)",
      "Cell \u001b[0;32mIn[62], line 14\u001b[0m\n\u001b[1;32m      1\u001b[0m LINKS \u001b[38;5;241m=\u001b[39m (\n\u001b[1;32m      2\u001b[0m     \u001b[38;5;124m'\u001b[39m\u001b[38;5;124mpsm_base_link\u001b[39m\u001b[38;5;124m'\u001b[39m, \u001b[38;5;124m'\u001b[39m\u001b[38;5;124mpsm_yaw_link\u001b[39m\u001b[38;5;124m'\u001b[39m, \u001b[38;5;124m'\u001b[39m\u001b[38;5;124mpsm_pitch_end_link\u001b[39m\u001b[38;5;124m'\u001b[39m,  \u001b[38;5;66;03m# -1, 0, 1\u001b[39;00m\n\u001b[1;32m      3\u001b[0m     \u001b[38;5;124m'\u001b[39m\u001b[38;5;124mpsm_main_insertion_link\u001b[39m\u001b[38;5;124m'\u001b[39m, \u001b[38;5;124m'\u001b[39m\u001b[38;5;124mpsm_tool_roll_link\u001b[39m\u001b[38;5;124m'\u001b[39m,  \u001b[38;5;66;03m# 2, 3\u001b[39;00m\n\u001b[0;32m   (...)\u001b[0m\n\u001b[1;32m     11\u001b[0m     \u001b[38;5;124m'\u001b[39m\u001b[38;5;124mpsm_main_insertion_link_3\u001b[39m\u001b[38;5;124m'\u001b[39m,  \u001b[38;5;66;03m# 15\u001b[39;00m\n\u001b[1;32m     12\u001b[0m )\n\u001b[0;32m---> 14\u001b[0m \u001b[43mLINKS\u001b[49m\u001b[43m[\u001b[49m\u001b[38;5;124;43m'\u001b[39;49m\u001b[38;5;124;43mpsm_tool_pitch_link\u001b[39;49m\u001b[38;5;124;43m'\u001b[39;49m\u001b[43m]\u001b[49m\n",
      "\u001b[0;31mTypeError\u001b[0m: tuple indices must be integers or slices, not str"
     ]
    }
   ],
   "source": []
  },
  {
   "cell_type": "code",
   "execution_count": 8,
   "id": "45b7b878",
   "metadata": {},
   "outputs": [
    {
     "name": "stdout",
     "output_type": "stream",
     "text": [
      "[[ 2.5    3.   ]\n",
      " [-0.25   0.25 ]\n",
      " [ 3.426  3.776]]\n",
      "-10.040864127967499\n"
     ]
    },
    {
     "data": {
      "text/plain": [
       "array([-0.10206997, -0.78161303,  0.14310819, -0.34265871,  0.12602561,\n",
       "       -0.17524614])"
      ]
     },
     "execution_count": 8,
     "metadata": {},
     "output_type": "execute_result"
    }
   ],
   "source": [
    "print(workspace_limits)\n",
    "\n",
    "pos = (\n",
    "    workspace_limits[0][1],\n",
    "    workspace_limits[1][1],\n",
    "    workspace_limits[2][1]\n",
    ")\n",
    "\n",
    "orn = (1.0, 1.0, -0.5, -0.5)\n",
    "# orn = (0.5, 0.5, -0.5, -0.5)\n",
    "joint_positions = psm.inverse_kinematics((pos, orn), psm.EEF_LINK_INDEX)\n",
    "print(np.rad2deg(joint_positions[5]))\n",
    "psm.reset_joint(joint_positions)"
   ]
  },
  {
   "cell_type": "code",
   "execution_count": 53,
   "id": "4a04d0f2",
   "metadata": {},
   "outputs": [
    {
     "name": "stdout",
     "output_type": "stream",
     "text": [
      "[[ 0.98468365  0.17435053  0.          0.        ]\n",
      " [-0.17435053  0.98468365  0.          0.        ]\n",
      " [ 0.          0.          1.          0.        ]\n",
      " [ 0.          0.          0.          1.        ]]\n"
     ]
    },
    {
     "data": {
      "text/plain": [
       "array([[ 0.98468365, -0.17435053,  0.        ,  0.        ],\n",
       "       [ 0.17435053,  0.98468365,  0.        ,  0.        ],\n",
       "       [ 0.        ,  0.        ,  1.        ,  0.        ],\n",
       "       [ 0.        ,  0.        ,  0.        ,  1.        ]])"
      ]
     },
     "execution_count": 53,
     "metadata": {},
     "output_type": "execute_result"
    }
   ],
   "source": [
    "angle = joint_positions[5]\n",
    "T_joint = np.array([\n",
    "    [np.cos(angle), -np.sin(angle), 0, 0],\n",
    "    [np.sin(angle), np.cos(angle), 0, 0],\n",
    "    [0, 0, 1, 0],\n",
    "    [0, 0, 0, 1]\n",
    "])\n",
    "print(T_joint)\n",
    "np.linalg.inv(T_joint)"
   ]
  },
  {
   "cell_type": "code",
   "execution_count": 54,
   "id": "d69505aa",
   "metadata": {},
   "outputs": [
    {
     "data": {
      "text/plain": [
       "array([[ 0.98468365, -0.17435053,  0.        ,  0.        ],\n",
       "       [ 0.17435053,  0.98468365,  0.        ,  0.        ],\n",
       "       [ 0.        ,  0.        ,  1.        ,  0.        ],\n",
       "       [ 0.        ,  0.        ,  0.        ,  1.        ]])"
      ]
     },
     "execution_count": 54,
     "metadata": {},
     "output_type": "execute_result"
    }
   ],
   "source": [
    "T_joint_inv = np.array([\n",
    "    [np.cos(-angle), -np.sin(-angle), 0, 0],\n",
    "    [np.sin(-angle), np.cos(-angle), 0, 0],\n",
    "    [0, 0, 1, 0],\n",
    "    [0, 0, 0, 1]\n",
    "])\n",
    "\n",
    "T_joint_inv"
   ]
  },
  {
   "cell_type": "code",
   "execution_count": 22,
   "id": "a54239f8",
   "metadata": {},
   "outputs": [
    {
     "data": {
      "text/plain": [
       "5"
      ]
     },
     "execution_count": 22,
     "metadata": {},
     "output_type": "execute_result"
    }
   ],
   "source": [
    "from surrol.utils.pybullet_utils import get_joint\n",
    "get_joint(psm.body, \"psm_tool_yaw_joint\")"
   ]
  },
  {
   "cell_type": "code",
   "execution_count": 55,
   "id": "5a3407d4",
   "metadata": {},
   "outputs": [
    {
     "name": "stdout",
     "output_type": "stream",
     "text": [
      "yaw: [3.         0.25       3.77600002]\n",
      "pitch: [2.97311807 0.25793296 3.81184244]\n",
      "diff: [ 0.02688193 -0.00793296 -0.03584242]\n"
     ]
    }
   ],
   "source": [
    "from surrol.utils.pybullet_utils import (\n",
    "    get_link_pose\n",
    ")\n",
    "\n",
    "tool_yaw_pos = np.array(get_link_pose(psm.body, 5)[0])\n",
    "tool_pitch_pos = np.array(get_link_pose(psm.body, 4)[0])\n",
    "\n",
    "print(\"yaw:\", tool_yaw_pos)\n",
    "print(\"pitch:\", tool_pitch_pos)\n",
    "print(\"diff:\", tool_yaw_pos - tool_pitch_pos)"
   ]
  },
  {
   "cell_type": "code",
   "execution_count": null,
   "id": "e81faf81",
   "metadata": {},
   "outputs": [],
   "source": [
    "from surrol.utils.pybullet_utils import (\n",
    "    get_euler_from_quaternion\n",
    ")\n",
    "\n",
    "tool_yaw_orn = get_euler_from_quaternion(get_link_pose(psm.body, 5)[1])\n",
    "tool_pitch_orn = get_euler_from_quaternion(get_link_pose(psm.body, 4)[1])\n",
    "\n",
    "print(\"yaw:\", tool_yaw_orn)\n",
    "print(\"pitch:\", tool_pitch_orn)"
   ]
  },
  {
   "cell_type": "code",
   "execution_count": 56,
   "id": "3050be9f",
   "metadata": {},
   "outputs": [
    {
     "data": {
      "text/plain": [
       "array([[ 0.        ,  0.6       , -0.8       ,  3.        ],\n",
       "       [ 1.        ,  0.        ,  0.        ,  0.25      ],\n",
       "       [ 0.        , -0.8       , -0.6       ,  3.77600002],\n",
       "       [ 0.        ,  0.        ,  0.        ,  1.        ]])"
      ]
     },
     "execution_count": 56,
     "metadata": {},
     "output_type": "execute_result"
    }
   ],
   "source": [
    "from surrol.utils.robotics import get_matrix_from_pose_2d, get_matrix_from_euler, get_pose_2d_from_matrix\n",
    "T_child_world = get_matrix_from_pose_2d(get_link_pose(psm.body, 5))\n",
    "T_child_world"
   ]
  },
  {
   "cell_type": "code",
   "execution_count": 58,
   "id": "6288f9be",
   "metadata": {},
   "outputs": [
    {
     "data": {
      "text/plain": [
       "array([[ 5.90810187e-01, -8.00000005e-01,  1.04610301e-01,\n",
       "         2.97311807e+00],\n",
       "       [-1.74350626e-01, -9.38816552e-08,  9.84683634e-01,\n",
       "         2.57932961e-01],\n",
       "       [-7.87746902e-01, -5.99999993e-01, -1.39480557e-01,\n",
       "         3.81184244e+00],\n",
       "       [ 0.00000000e+00,  0.00000000e+00,  0.00000000e+00,\n",
       "         1.00000000e+00]])"
      ]
     },
     "execution_count": 58,
     "metadata": {},
     "output_type": "execute_result"
    }
   ],
   "source": [
    "T_parent_world = get_matrix_from_pose_2d(get_link_pose(psm.body, 4))\n",
    "T_parent_world"
   ]
  },
  {
   "cell_type": "code",
   "execution_count": 59,
   "id": "01406547",
   "metadata": {},
   "outputs": [
    {
     "data": {
      "text/plain": [
       "array([[ 0.59081019, -0.8       ,  0.10461032,  2.97311814],\n",
       "       [-0.17435053,  0.        ,  0.98468365,  0.25793295],\n",
       "       [-0.78774692, -0.6       , -0.13948042,  3.81184251],\n",
       "       [ 0.        ,  0.        ,  0.        ,  1.        ]])"
      ]
     },
     "execution_count": 59,
     "metadata": {},
     "output_type": "execute_result"
    }
   ],
   "source": [
    "T_child_parent = np.array([\n",
    "    [0, 1, 0, 0.0455],\n",
    "    [0, 0, 1, 0],\n",
    "    [1, 0, 0, 0],\n",
    "    [0, 0, 0, 1]\n",
    "])\n",
    "\n",
    "T_pw = T_child_world @ np.linalg.inv(T_joint) @ np.linalg.inv(T_child_parent)\n",
    "T_pw"
   ]
  },
  {
   "cell_type": "code",
   "execution_count": 19,
   "id": "9979597a",
   "metadata": {},
   "outputs": [
    {
     "data": {
      "text/plain": [
       "((1.4873344728824078, 1.2185358340593364, -0.537597419008244),\n",
       " (0.18485783937431616,\n",
       "  -0.18485783519931728,\n",
       "  0.09242892420191066,\n",
       "  0.9607872053468234))"
      ]
     },
     "execution_count": 19,
     "metadata": {},
     "output_type": "execute_result"
    }
   ],
   "source": [
    "get_pose_2d_from_matrix(T_parent_world @ np.linalg.inv(T_pw))"
   ]
  },
  {
   "cell_type": "code",
   "execution_count": 9,
   "id": "27f00af8",
   "metadata": {},
   "outputs": [
    {
     "name": "stdout",
     "output_type": "stream",
     "text": [
      "[2.75, 0.0, 3.41]\n"
     ]
    }
   ],
   "source": [
    "scale = SCALING * 5.0\n",
    "\n",
    "hemisphere_pos = [\n",
    "    workspace_limits[0].mean(), \n",
    "    workspace_limits[1].mean(), \n",
    "    workspace_limits[2][0] - 0.016 # 0.0102 * 2.5\n",
    "]\n",
    "\n",
    "print(hemisphere_pos)\n",
    "\n",
    "hemisphere_id = p.loadURDF(\n",
    "    '/Users/kantaphat/Research/DEX/SurRoL/surrol/assets/sphere/half_sphere.urdf',\n",
    "    np.array(hemisphere_pos),\n",
    "    p.getQuaternionFromEuler((-np.pi / 2, 0, 0)),\n",
    "    useFixedBase=False,\n",
    "    globalScaling=scale\n",
    ")"
   ]
  },
  {
   "cell_type": "code",
   "execution_count": null,
   "id": "a604486a",
   "metadata": {},
   "outputs": [],
   "source": [
    "# Get the shape data of hemisphere\n",
    "shape_data = p.getVisualShapeData(hemisphere_id)\n",
    "print(\"Shape data:\", shape_data)\n",
    "\n",
    "# scale = 5, number = 0.05\n",
    "# scale = 25, number = 0.25"
   ]
  },
  {
   "cell_type": "code",
   "execution_count": null,
   "id": "552fd1ad",
   "metadata": {},
   "outputs": [],
   "source": [
    "p.removeBody(hemisphere_id)"
   ]
  },
  {
   "cell_type": "code",
   "execution_count": null,
   "id": "70fb2470",
   "metadata": {},
   "outputs": [],
   "source": [
    "yaw = (np.random.rand() - 0.5) * np.pi\n",
    "needle_pos = (\n",
    "    workspace_limits[0].mean() + (np.random.rand() - 0.5) * 0.1,\n",
    "    workspace_limits[1].mean() + (np.random.rand() - 0.5) * 0.1,\n",
    "    workspace_limits[2][0]\n",
    ")\n",
    "print(\"Needle pos:\", needle_pos)\n",
    "print(\"Needle yaw:\", yaw / np.pi * 180)\n",
    "needle_id = p.loadURDF(\n",
    "    '/Users/kantaphat/Research/DEX/SurRoL/surrol/assets/needle/needle_40mm.urdf',\n",
    "    np.array(needle_pos),\n",
    "    p.getQuaternionFromEuler((0, 0, yaw)),\n",
    "    useFixedBase=False,\n",
    "    globalScaling=SCALING\n",
    ")"
   ]
  },
  {
   "cell_type": "code",
   "execution_count": null,
   "id": "3698d6fe",
   "metadata": {},
   "outputs": [],
   "source": [
    "p.removeBody(needle_id)"
   ]
  },
  {
   "cell_type": "code",
   "execution_count": null,
   "id": "797afd70",
   "metadata": {},
   "outputs": [],
   "source": [
    "# Get position of the needle_id\n",
    "needle_pos, needle_orn = p.getBasePositionAndOrientation(needle_id)\n",
    "print(\"Needle pos:\", needle_pos)\n",
    "print(\"Needle orn:\", needle_orn)"
   ]
  },
  {
   "cell_type": "code",
   "execution_count": null,
   "id": "712847a1",
   "metadata": {},
   "outputs": [],
   "source": [
    "len(p.getVisualShapeData(hemisphere_id)[0])"
   ]
  },
  {
   "cell_type": "code",
   "execution_count": 10,
   "id": "7390a4d5",
   "metadata": {},
   "outputs": [
    {
     "name": "stdout",
     "output_type": "stream",
     "text": [
      "Pos: (3.0, 0.25, 3.776)\n",
      "Hemisphere pos: [2.75, 0.0, 3.41]\n",
      "PC: [0.25  0.25  0.366]\n",
      "Unit PC: [0.49127766 0.49127766 0.7192305 ]\n",
      "Hemisphere radius: 0.25\n",
      "Cylinder pos: [2.87281942 0.12281942 3.58980763]\n",
      "Cylinder orn: (-0.26493844389915466, 0.26493844389915466, 0.0, 0.9271543622016907)\n"
     ]
    }
   ],
   "source": [
    "# Vector from hemisphere center to PSM position\n",
    "print(\"Pos:\", pos)\n",
    "print(\"Hemisphere pos:\", hemisphere_pos)\n",
    "pc = np.array(pos) - np.array(hemisphere_pos)\n",
    "print(\"PC:\", pc)\n",
    "unit_pc = pc / np.linalg.norm(pc)\n",
    "print(\"Unit PC:\", unit_pc)\n",
    "hemisphere_radius = p.getVisualShapeData(hemisphere_id)[0][3][0]\n",
    "print(\"Hemisphere radius:\", hemisphere_radius)\n",
    "cylinder_pos = hemisphere_pos + unit_pc * hemisphere_radius\n",
    "print(\"Cylinder pos:\", cylinder_pos)\n",
    "\n",
    "default_axis = np.array([0, 0, 1])\n",
    "\n",
    "axis_of_rotation = np.cross(default_axis, unit_pc)\n",
    "angle_of_rotation = np.arccos(np.dot(default_axis, unit_pc))\n",
    "\n",
    "# Create quaternion from Euler angles\n",
    "cylinder_orn = p.getQuaternionFromAxisAngle(axis_of_rotation, angle_of_rotation)\n",
    "print(\"Cylinder orn:\", cylinder_orn)\n"
   ]
  },
  {
   "cell_type": "code",
   "execution_count": 11,
   "id": "5d92c0fb",
   "metadata": {},
   "outputs": [],
   "source": [
    "cylinder_visual_id = p.createVisualShape(\n",
    "    p.GEOM_CYLINDER, \n",
    "    radius=0.05, \n",
    "    length=0.05,\n",
    "    rgbaColor=[0, 1, 1, 0.5]\n",
    ")\n",
    "\n",
    "cylinder_id = p.createMultiBody(\n",
    "    baseMass=0,\n",
    "    baseVisualShapeIndex=cylinder_visual_id,\n",
    "    basePosition=cylinder_pos,\n",
    "    baseOrientation=cylinder_orn\n",
    ")"
   ]
  },
  {
   "cell_type": "code",
   "execution_count": null,
   "id": "2960b2d3",
   "metadata": {},
   "outputs": [],
   "source": [
    "p.removeBody(cylinder_id)"
   ]
  },
  {
   "cell_type": "code",
   "execution_count": null,
   "id": "02684995",
   "metadata": {},
   "outputs": [],
   "source": [
    "cylinder_center_shape = p.createVisualShape(\n",
    "            p.GEOM_SPHERE, \n",
    "            radius=0.007, \n",
    "            rgbaColor=[1.0, 0.41, 0.71, 1]\n",
    "        )\n",
    "        \n",
    "cylinder_center_id = p.createMultiBody(\n",
    "    baseMass=0,\n",
    "    baseVisualShapeIndex=cylinder_center_shape,\n",
    "    basePosition=cylinder_pos\n",
    ")"
   ]
  },
  {
   "cell_type": "code",
   "execution_count": null,
   "id": "b5463534",
   "metadata": {},
   "outputs": [],
   "source": [
    "cameraTargetPosition=np.array((0.55, -0.52, 0.375)) * SCALING\n",
    "# reset_camera(yaw=-90, pitch=-30, dist=0.7, target=np.array(POSE_TRAY[0]) * SCALING)\n",
    "reset_camera(yaw=90, pitch=-89, dist=0.7, target=np.array(POSE_TRAY[0]) * SCALING)"
   ]
  },
  {
   "cell_type": "code",
   "execution_count": null,
   "id": "b7c97e78",
   "metadata": {},
   "outputs": [],
   "source": [
    "orn = (0.5, 0.5, -0.5, -0.5)\n",
    "joint_positions = psm.inverse_kinematics((cylinder_pos, orn), psm.EEF_LINK_INDEX)\n",
    "psm.reset_joint(joint_positions)"
   ]
  },
  {
   "cell_type": "code",
   "execution_count": null,
   "id": "89953a2d",
   "metadata": {},
   "outputs": [],
   "source": [
    "from surrol.utils.pybullet_utils import (\n",
    "    get_link_pose\n",
    ")\n",
    "\n",
    "pose_world = get_link_pose(psm.body, psm.DoF - 1)[0]\n",
    "pose_world"
   ]
  },
  {
   "cell_type": "code",
   "execution_count": null,
   "id": "ad347a26",
   "metadata": {},
   "outputs": [],
   "source": [
    "circle_shape = p.createVisualShape(\n",
    "    p.GEOM_SPHERE, \n",
    "    radius=0.01, \n",
    "    rgbaColor=[1.0, 0.41, 0.71, 1]\n",
    ")\n",
    "        \n",
    "circle_id = p.createMultiBody(\n",
    "    baseMass=0,\n",
    "    baseVisualShapeIndex=circle_shape,\n",
    "    basePosition=get_link_pose(psm.body, 4)[0]\n",
    ")\n"
   ]
  },
  {
   "cell_type": "code",
   "execution_count": null,
   "id": "7392cd36",
   "metadata": {},
   "outputs": [],
   "source": [
    "p.removeBody(circle_id)"
   ]
  },
  {
   "cell_type": "code",
   "execution_count": null,
   "id": "bb4247cd",
   "metadata": {},
   "outputs": [],
   "source": [
    "reset_camera(yaw=90, pitch=-30, dist=0.4, target=get_link_pose(psm.body, 4)[0])"
   ]
  },
  {
   "cell_type": "code",
   "execution_count": 12,
   "id": "e84b5590",
   "metadata": {},
   "outputs": [
    {
     "ename": "KeyboardInterrupt",
     "evalue": "",
     "output_type": "error",
     "traceback": [
      "\u001b[0;31m---------------------------------------------------------------------------\u001b[0m",
      "\u001b[0;31mKeyboardInterrupt\u001b[0m                         Traceback (most recent call last)",
      "Cell \u001b[0;32mIn[12], line 3\u001b[0m\n\u001b[1;32m      1\u001b[0m \u001b[38;5;28;01mwhile\u001b[39;00m \u001b[38;5;28;01mTrue\u001b[39;00m:\n\u001b[1;32m      2\u001b[0m     p\u001b[38;5;241m.\u001b[39mstepSimulation()\n\u001b[0;32m----> 3\u001b[0m     \u001b[43mtime\u001b[49m\u001b[38;5;241;43m.\u001b[39;49m\u001b[43msleep\u001b[49m\u001b[43m(\u001b[49m\u001b[38;5;241;43m1.0\u001b[39;49m\u001b[38;5;241;43m/\u001b[39;49m\u001b[38;5;241;43m240.0\u001b[39;49m\u001b[43m)\u001b[49m\n",
      "\u001b[0;31mKeyboardInterrupt\u001b[0m: "
     ]
    }
   ],
   "source": [
    "while True:\n",
    "    p.stepSimulation()\n",
    "    time.sleep(1.0/240.0)"
   ]
  },
  {
   "cell_type": "code",
   "execution_count": null,
   "id": "1b4fc067",
   "metadata": {},
   "outputs": [],
   "source": [
    "def draw_workspace(limits, color=(1, 0, 0), line_width=2):\n",
    "    \"\"\"Draw a wireframe box representing the workspace limits.\"\"\"\n",
    "    x_min, x_max = limits[0]\n",
    "    y_min, y_max = limits[1]\n",
    "    z_min, z_max = limits[2]\n",
    "    \n",
    "    # Define the 8 corners of the box\n",
    "    corners = [\n",
    "        [x_min, y_min, z_min],\n",
    "        [x_min, y_min, z_max],\n",
    "        [x_min, y_max, z_min],\n",
    "        [x_min, y_max, z_max],\n",
    "        [x_max, y_min, z_min],\n",
    "        [x_max, y_min, z_max],\n",
    "        [x_max, y_max, z_min],\n",
    "        [x_max, y_max, z_max]\n",
    "    ]\n",
    "    \n",
    "    # Define the 12 edges of the box\n",
    "    edges = [\n",
    "        (0, 1), (0, 2), (0, 4),\n",
    "        (1, 3), (1, 5),\n",
    "        (2, 3), (2, 6),\n",
    "        (3, 7),\n",
    "        (4, 5), (4, 6),\n",
    "        (5, 7),\n",
    "        (6, 7)\n",
    "    ]\n",
    "    \n",
    "    # Draw each edge\n",
    "    for edge in edges:\n",
    "        p.addUserDebugLine(\n",
    "            corners[edge[0]],\n",
    "            corners[edge[1]],\n",
    "            lineColorRGB=color,\n",
    "            lineWidth=line_width,\n",
    "            lifeTime=0\n",
    "        )\n",
    "        \n",
    "draw_workspace(workspace_limits)"
   ]
  },
  {
   "cell_type": "code",
   "execution_count": null,
   "id": "9f4421d7",
   "metadata": {},
   "outputs": [],
   "source": [
    "psm.pose_rcm2world(psm.get_current_position(), 'tuple')[0]"
   ]
  },
  {
   "cell_type": "code",
   "execution_count": null,
   "id": "22aebb09",
   "metadata": {},
   "outputs": [],
   "source": [
    "reset_camera(yaw=90, pitch=-10, dist=1.2, \n",
    "             target=np.array(psm.pose_rcm2world(psm.get_current_position(), 'tuple')[0]))"
   ]
  },
  {
   "cell_type": "code",
   "execution_count": null,
   "id": "0b9b83f1",
   "metadata": {},
   "outputs": [],
   "source": [
    "sphere_shape = p.createVisualShape(\n",
    "    p.GEOM_SPHERE, \n",
    "    radius=0.005, \n",
    "    rgbaColor=[0, 1, 1, 1]\n",
    ")\n",
    "\n",
    "sphere_body = p.createMultiBody(\n",
    "    baseMass=0,\n",
    "    baseVisualShapeIndex=sphere_shape,\n",
    "    basePosition=psm.pose_rcm2world(psm.get_current_position(), 'tuple')[0]\n",
    ")"
   ]
  },
  {
   "cell_type": "code",
   "execution_count": null,
   "id": "85e18548",
   "metadata": {},
   "outputs": [],
   "source": [
    "p.removeBody(sphere_body)"
   ]
  },
  {
   "cell_type": "code",
   "execution_count": null,
   "id": "ba032f43",
   "metadata": {},
   "outputs": [],
   "source": [
    "p.disconnect()"
   ]
  }
 ],
 "metadata": {
  "kernelspec": {
   "display_name": "surrol",
   "language": "python",
   "name": "python3"
  },
  "language_info": {
   "codemirror_mode": {
    "name": "ipython",
    "version": 3
   },
   "file_extension": ".py",
   "mimetype": "text/x-python",
   "name": "python",
   "nbconvert_exporter": "python",
   "pygments_lexer": "ipython3",
   "version": "3.8.20"
  }
 },
 "nbformat": 4,
 "nbformat_minor": 5
}
