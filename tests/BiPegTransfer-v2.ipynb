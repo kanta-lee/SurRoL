{
 "cells": [
  {
   "cell_type": "code",
   "execution_count": 59,
   "metadata": {},
   "outputs": [
    {
     "name": "stdout",
     "output_type": "stream",
     "text": [
      "Version = 4.1 Metal - 89.3\n",
      "Vendor = Apple\n",
      "Renderer = Apple M1\n",
      "b3Printf: Selected demo: Physics Server\n",
      "startThreads creating 1 threads.\n",
      "starting thread 0\n",
      "started thread 0 \n",
      "MotionThreadFunc thread started\n"
     ]
    }
   ],
   "source": [
    "import pybullet as p\n",
    "import numpy as np\n",
    "from surrol.utils.pybullet_utils import reset_camera\n",
    "\n",
    "# Connect to PyBullet\n",
    "physicsClient = p.connect(p.GUI)  # Use p.DIRECT for non-GUI mode\n",
    "p.setGravity(0, 0, -9.81)"
   ]
  },
  {
   "cell_type": "code",
   "execution_count": 60,
   "metadata": {},
   "outputs": [],
   "source": [
    "# Load peg board\n",
    "board_id = p.loadURDF('/Users/kantaphat/Research/ViSkill/SurRoL/surrol/assets/peg_board/peg_board.urdf',\n",
    "                      np.array((0.55, 0, 0.6861)) * 5.,\n",
    "                      p.getQuaternionFromEuler((0, 0, 0)),\n",
    "                      globalScaling=5.)"
   ]
  },
  {
   "cell_type": "code",
   "execution_count": 61,
   "metadata": {},
   "outputs": [
    {
     "data": {
      "text/plain": [
       "array([ 0.25053271, -0.00778389,  0.10680793, -0.33878498, -0.07755453,\n",
       "       -0.23859141])"
      ]
     },
     "execution_count": 61,
     "metadata": {},
     "output_type": "execute_result"
    }
   ],
   "source": [
    "# Load PSM1\n",
    "from surrol.robots.psm import Psm\n",
    "\n",
    "psm1 = Psm((0.05, 0.24, 0.8524), p.getQuaternionFromEuler((0, 0, -(90 + 20) / 180 * np.pi)), 5.)\n",
    "psm1.reset_joint(np.array([0.25053271, -0.00778389, 0.10680793, -0.33878498, -0.07755453, -0.23859141]))"
   ]
  },
  {
   "cell_type": "code",
   "execution_count": 47,
   "metadata": {},
   "outputs": [],
   "source": [
    "p.removeBody(psm1.body)"
   ]
  },
  {
   "cell_type": "code",
   "execution_count": 62,
   "metadata": {},
   "outputs": [],
   "source": [
    "# Load the sphere\n",
    "sphere_id = p.loadURDF('/Users/kantaphat/Research/ViSkill/SurRoL/surrol/assets/sphere/obstacle.urdf',\n",
    "                       np.array([2.8 - 0.1, 0.215 - 0.15, 3.5405 + 0.17]),\n",
    "                       (0, 0, 0, 1),\n",
    "                       globalScaling=5.)"
   ]
  },
  {
   "cell_type": "code",
   "execution_count": 18,
   "metadata": {},
   "outputs": [],
   "source": [
    "# Remove sphere\n",
    "p.removeBody(sphere_id)"
   ]
  },
  {
   "cell_type": "code",
   "execution_count": 91,
   "metadata": {},
   "outputs": [],
   "source": [
    "# Load cylinder\n",
    "cylinder_id = p.loadURDF('/Users/kantaphat/Research/ViSkill/SurRoL/surrol/assets/cylinder/cylinder_phase_1.urdf',\n",
    "                       np.array([2.5, 0.25, 3.776 - 0.04]), # np.array([2.55, 0.21, 3.83]),\n",
    "                       p.getQuaternionFromEuler((-np.pi / 2.5, 0, np.pi / 6)),\n",
    "                       globalScaling=5.)\n",
    "\n",
    "# PSM1's initial position\n",
    "# 2.5        0.25       3.77600002"
   ]
  },
  {
   "cell_type": "code",
   "execution_count": 90,
   "metadata": {},
   "outputs": [],
   "source": [
    "# Remove cylinder\n",
    "p.removeBody(cylinder_id)"
   ]
  },
  {
   "cell_type": "code",
   "execution_count": 89,
   "metadata": {},
   "outputs": [],
   "source": [
    "# Front view\n",
    "# reset_camera(yaw=90, pitch=-30, dist=0.8 * 5., target=(-0.05 * 5., 0, 0.36 * 5.))\n",
    "reset_camera(yaw=90, pitch=-30, dist=0.85 * 5., target=(-0.05 * 5., 0, 0.395 * 5.))\n"
   ]
  },
  {
   "cell_type": "code",
   "execution_count": 85,
   "metadata": {},
   "outputs": [],
   "source": [
    "# Right side view\n",
    "reset_camera(yaw=180, pitch=-30, dist=0.75 * 5., target=(0.53 * 5., -0.52 * 5., 0.395 * 5.))"
   ]
  },
  {
   "cell_type": "code",
   "execution_count": 83,
   "metadata": {},
   "outputs": [],
   "source": [
    "# Left side view\n",
    "reset_camera(yaw=0, pitch=-30, dist=0.75 * 5., target=(0.55 * 5., 0.52 * 5., 0.395 * 5.))"
   ]
  },
  {
   "cell_type": "code",
   "execution_count": 84,
   "metadata": {},
   "outputs": [],
   "source": [
    "# Top view\n",
    "reset_camera(yaw=90, pitch=-89, dist=0.6, target=(2.7, 0, 3.75))"
   ]
  },
  {
   "cell_type": "code",
   "execution_count": 92,
   "metadata": {},
   "outputs": [],
   "source": [
    "# Back view\n",
    "reset_camera(yaw=-90, pitch=-30, dist=0.82 * 5., target=(1.15 * 5., 0.1, 0.395 * 5.))"
   ]
  },
  {
   "cell_type": "code",
   "execution_count": null,
   "metadata": {},
   "outputs": [],
   "source": [
    "# Reset the simulation (remove all objects)\n",
    "# p.resetSimulation()"
   ]
  },
  {
   "cell_type": "code",
   "execution_count": 58,
   "metadata": {},
   "outputs": [
    {
     "name": "stdout",
     "output_type": "stream",
     "text": [
      "numActiveThreads = 0\n",
      "stopping threads\n",
      "Thread with taskId 0 exiting\n",
      "Thread TERMINATED\n",
      "destroy semaphore\n",
      "semaphore destroyed\n",
      "destroy main semaphore\n",
      "main semaphore destroyed\n"
     ]
    }
   ],
   "source": [
    "# Disconnect from PyBullet\n",
    "p.disconnect()"
   ]
  },
  {
   "cell_type": "code",
   "execution_count": null,
   "metadata": {},
   "outputs": [],
   "source": []
  }
 ],
 "metadata": {
  "kernelspec": {
   "display_name": "surrol",
   "language": "python",
   "name": "python3"
  },
  "language_info": {
   "codemirror_mode": {
    "name": "ipython",
    "version": 3
   },
   "file_extension": ".py",
   "mimetype": "text/x-python",
   "name": "python",
   "nbconvert_exporter": "python",
   "pygments_lexer": "ipython3",
   "version": "3.8.20"
  }
 },
 "nbformat": 4,
 "nbformat_minor": 2
}
