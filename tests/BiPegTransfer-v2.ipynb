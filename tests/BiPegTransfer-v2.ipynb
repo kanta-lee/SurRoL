{
 "cells": [
  {
   "cell_type": "code",
   "execution_count": 1,
   "metadata": {},
   "outputs": [
    {
     "name": "stderr",
     "output_type": "stream",
     "text": [
      "pybullet build time: Feb 15 2025 12:06:37\n"
     ]
    },
    {
     "name": "stdout",
     "output_type": "stream",
     "text": [
      "Version = 4.1 Metal - 89.3\n",
      "Vendor = Apple\n",
      "Renderer = Apple M1\n",
      "b3Printf: Selected demo: Physics Server\n",
      "startThreads creating 1 threads.\n",
      "starting thread 0\n",
      "started thread 0 \n",
      "MotionThreadFunc thread started\n"
     ]
    }
   ],
   "source": [
    "import pybullet as p\n",
    "import numpy as np\n",
    "from surrol.utils.pybullet_utils import reset_camera\n",
    "\n",
    "# Connect to PyBullet\n",
    "physicsClient = p.connect(p.GUI)  # Use p.DIRECT for non-GUI mode\n",
    "p.setGravity(0, 0, -9.81)"
   ]
  },
  {
   "cell_type": "code",
   "execution_count": 2,
   "metadata": {},
   "outputs": [],
   "source": [
    "# Load peg board\n",
    "board_id = p.loadURDF('/Users/kantaphat/Research/ViSkill/SurRoL/surrol/assets/peg_board/peg_board.urdf',\n",
    "                      np.array((0.55, 0, 0.6861)) * 5.,\n",
    "                      p.getQuaternionFromEuler((0, 0, 0)),\n",
    "                      globalScaling=5.)"
   ]
  },
  {
   "cell_type": "code",
   "execution_count": 12,
   "metadata": {},
   "outputs": [
    {
     "name": "stderr",
     "output_type": "stream",
     "text": [
      "2025-03-01 14:48:31.269 python[88391:690039] +[IMKClient subclass]: chose IMKClient_Modern\n",
      "2025-03-01 14:48:31.269 python[88391:690039] +[IMKInputSession subclass]: chose IMKInputSession_Modern\n"
     ]
    }
   ],
   "source": [
    "# Load the sphere\n",
    "sphere_id = p.loadURDF('/Users/kantaphat/Research/ViSkill/SurRoL/surrol/assets/sphere/obstacle.urdf',\n",
    "                       np.array([2.8, 0.215 - 0.15, 3.5405 + 0.15]),\n",
    "                       (0, 0, 0, 1),\n",
    "                       globalScaling=5.)"
   ]
  },
  {
   "cell_type": "code",
   "execution_count": 11,
   "metadata": {},
   "outputs": [],
   "source": [
    "# Remove sphere\n",
    "p.removeBody(sphere_id)"
   ]
  },
  {
   "cell_type": "code",
   "execution_count": null,
   "metadata": {},
   "outputs": [],
   "source": [
    "# Load cylinder\n",
    "cylinder_id = p.loadURDF('/Users/kantaphat/Research/ViSkill/SurRoL/surrol/assets/cylinder/cylinder_phase_1.urdf',\n",
    "                       np.array([2.55, 0.21, 3.83]),\n",
    "                       p.getQuaternionFromEuler((-np.pi / 3, -np.pi / 6, 0)),\n",
    "                       globalScaling=5.)"
   ]
  },
  {
   "cell_type": "code",
   "execution_count": 15,
   "metadata": {},
   "outputs": [
    {
     "data": {
      "text/plain": [
       "(0.0, -0.0, 0.0)"
      ]
     },
     "execution_count": 15,
     "metadata": {},
     "output_type": "execute_result"
    }
   ],
   "source": [
    "p.getEulerFromQuaternion((0, 0., 0., 1))"
   ]
  },
  {
   "cell_type": "code",
   "execution_count": 18,
   "metadata": {},
   "outputs": [
    {
     "name": "stdout",
     "output_type": "stream",
     "text": [
      "b3Printf: b3Warning[examples/SharedMemory/PhysicsClientSharedMemory.cpp,1343]:\n",
      "\n",
      "b3Printf: Removing body failed\n"
     ]
    }
   ],
   "source": [
    "# Remove cylinder\n",
    "p.removeBody(cylinder_id)"
   ]
  },
  {
   "cell_type": "code",
   "execution_count": 10,
   "metadata": {},
   "outputs": [],
   "source": [
    "# Front view\n",
    "reset_camera(yaw=90, pitch=-30, dist=0.8 * 5., target=(-0.05 * 5., 0, 0.36 * 5.))"
   ]
  },
  {
   "cell_type": "code",
   "execution_count": 14,
   "metadata": {},
   "outputs": [],
   "source": [
    "# Right side view\n",
    "reset_camera(yaw=180, pitch=-30, dist=0.75 * 5., target=(0.55 * 5., -0.52 * 5., 0.395 * 5.))"
   ]
  },
  {
   "cell_type": "code",
   "execution_count": 15,
   "metadata": {},
   "outputs": [],
   "source": [
    "# Left side view\n",
    "reset_camera(yaw=0, pitch=-30, dist=0.75 * 5., target=(0.55 * 5., 0.52 * 5., 0.395 * 5.))"
   ]
  },
  {
   "cell_type": "code",
   "execution_count": 16,
   "metadata": {},
   "outputs": [],
   "source": [
    "# Top view\n",
    "reset_camera(yaw=0, pitch=-89, dist=0.5, target=(2.7, 0, 3.75))"
   ]
  },
  {
   "cell_type": "code",
   "execution_count": null,
   "metadata": {},
   "outputs": [],
   "source": [
    "# Reset the simulation (remove all objects)\n",
    "p.resetSimulation()"
   ]
  },
  {
   "cell_type": "code",
   "execution_count": null,
   "metadata": {},
   "outputs": [
    {
     "name": "stdout",
     "output_type": "stream",
     "text": [
      "numActiveThreads = 0\n",
      "stopping threads\n",
      "destroy semaphore\n",
      "semaphore destroyed\n",
      "Thread with taskId 0 exiting\n",
      "Thread TERMINATED\n",
      "destroy main semaphore\n",
      "main semaphore destroyed\n"
     ]
    },
    {
     "ename": "",
     "evalue": "",
     "output_type": "error",
     "traceback": [
      "\u001b[1;31mThe Kernel crashed while executing code in the current cell or a previous cell. \n",
      "\u001b[1;31mPlease review the code in the cell(s) to identify a possible cause of the failure. \n",
      "\u001b[1;31mClick <a href='https://aka.ms/vscodeJupyterKernelCrash'>here</a> for more info. \n",
      "\u001b[1;31mView Jupyter <a href='command:jupyter.viewOutput'>log</a> for further details."
     ]
    }
   ],
   "source": [
    "# Disconnect from PyBullet\n",
    "p.disconnect()"
   ]
  },
  {
   "cell_type": "code",
   "execution_count": null,
   "metadata": {},
   "outputs": [],
   "source": []
  }
 ],
 "metadata": {
  "kernelspec": {
   "display_name": "surrol",
   "language": "python",
   "name": "python3"
  },
  "language_info": {
   "codemirror_mode": {
    "name": "ipython",
    "version": 3
   },
   "file_extension": ".py",
   "mimetype": "text/x-python",
   "name": "python",
   "nbconvert_exporter": "python",
   "pygments_lexer": "ipython3",
   "version": "3.8.20"
  }
 },
 "nbformat": 4,
 "nbformat_minor": 2
}
